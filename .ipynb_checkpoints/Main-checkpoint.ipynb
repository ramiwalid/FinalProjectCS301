{
 "cells": [
  {
   "cell_type": "markdown",
   "id": "b0e7895f-35e1-4ee7-8049-6ec2405288aa",
   "metadata": {},
   "source": [
    "Enterprise GenAI Adoption & Workforce Impact Dataset\n",
    "- \"This dataset originates from a multi-year enterprise survey conducted across industries and countries. It focuses on the organizational effects of adopting Generative AI tools such as ChatGPT, Claude, Gemini, Mixtral, LLaMA, and Groq. The dataset captures detailed metrics on job role creation, workforce transformation, productivity changes, and employee sentiment.\" ~ Kaggle.com\n",
    "- Over the last couple years, companies across almost all industries have pivoted to implementing Generative AI models and tools in their day-to-day operations to assist in employee productivity and streamline repetitive tasks. The automation that comes with these tools increases efficiency within the company, decreasing time elapsed per task. These advantages motivated the world to shift into this adjustment and this dataset provides a comprehensive overview of the integration of GenAI in the workforce.\n",
    "\n",
    "Analysis of Features:\n",
    "- Company Name\n",
    "  - Simply provides the name of the company per row.\n",
    "- Industry\n",
    "  - Notes the specific industry that the company is in. This feature provides valuable insight on the sector of the workforce that is integrating GenAI in their operations. This can be interesting because you'll see the wide range of different industries that are adopting GenAI, sometimes industries that you don't expect to see.\n",
    "- Country\n",
    "  - Provides the country of the company per row.\n",
    "- GenAI Tool\n",
    "  - Provides the specific GenAI tool each company decided to integrate into their operations. Each company utilizes an individual tool so they can obtain licensing for the tool and provide it for each employee to use. Companies often seek out a different tool based on their needs and industry they're in, as tools are trained to be more efficient in certain aspects.\n",
    "- Adoption Year\n",
    "  - The year that the company adopting the GenAI tool.\n",
    "- Number of Employees Impacted\n",
    "  - Staff count pertaining to the amount of employees impacted by the adoption of the GenAI tool within the company. Necessary detail as some employees won't be affected by the GenAI tool, such as the maintenance team, for example. Employees affected are the employees that either had their jobs automated or that use the GenAi tool to streamline tasks and assist them in their work.\n",
    "- New Roles Created\n",
    "  - Number of AI-driven roles that were created within the company. With such a major aspect change within the workforce, there has to be some sort of support system and development team for the tool to ensure seamless integration and ease-of-use for employees across all divisions. Not everyone has experience using GenAI tools so this is a crucial adjustment for companies.\n",
    "- Training Hours Provided\n",
    "  - Investment of training hours the company provided to staff. Similar to the last feature, not everyone has experience using GenAI tools so training is a necessity for companies looking to implement this feature into their operations on a daily basis. While it is a tool, the misuse of it can negatively impact productivity within the company.\n",
    "- Productivity Change (%)\n",
    "  - Percent change in productivity since the adoption of the GenAI tool within the company. This features has a wide range, displaying the effectiveness of GenAI tools in different industries and companies.\n",
    "- Employee Sentiment\n",
    "  - Provides the textual feedback from the employees of the companies. This is qualitative data essential in understanding the responsiveness of workers with the new implementation of tools in their company. Understanding how the employees feel says a lot about the trajectory of AI tools in the workforce.\n",
    " \n",
    "Most Important Features for Model Training:\n",
    "- Industry\n",
    "- GenAI tool\n",
    "- Number of Employees Impacted\n",
    "- New Roles Created\n",
    "- Productivity Change\n",
    "- Employee Sentiment\n",
    "\n",
    "Our reasoning for choosing these specific features for training our AI model is due to their insight on the trajectory of AI tools in the workforce and how we can use them to analyze the pros and cons of Generative AI in the workforce across industries. As the rise of AI continues to trend upwards, its important to analyze its impact and the feedback from employees integrating it into their day-to-day operations."
   ]
  }
 ],
 "metadata": {
  "kernelspec": {
   "display_name": "venv",
   "language": "python",
   "name": "venv"
  },
  "language_info": {
   "codemirror_mode": {
    "name": "ipython",
    "version": 3
   },
   "file_extension": ".py",
   "mimetype": "text/x-python",
   "name": "python",
   "nbconvert_exporter": "python",
   "pygments_lexer": "ipython3",
   "version": "3.13.2"
  }
 },
 "nbformat": 4,
 "nbformat_minor": 5
}
